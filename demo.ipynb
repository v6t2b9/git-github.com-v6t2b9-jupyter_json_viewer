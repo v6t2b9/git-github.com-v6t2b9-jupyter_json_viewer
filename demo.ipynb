{
 "cells": [
  {
   "cell_type": "markdown",
   "metadata": {},
   "source": [
    "# Importieren des Moduls\n",
    "Importieren Sie die Funktion display_json aus viewer.py."
   ]
  },
  {
   "cell_type": "code",
   "execution_count": null,
   "metadata": {},
   "outputs": [],
   "source": [
    "#!pip install jupyter-json-viewer\n",
    "from jupyter_json_viewer import display_json\n",
    "\n",
    "# Importieren der display_json Funktion aus viewer.py\n",
    "#from jupyter_json_viewer.viewer import display_json"
   ]
  },
  {
   "cell_type": "markdown",
   "metadata": {},
   "source": [
    "# Anzeigen einfacher JSON-Daten\n",
    "Verwenden Sie display_json, um einfache JSON-Daten anzuzeigen."
   ]
  },
  {
   "cell_type": "code",
   "execution_count": null,
   "metadata": {},
   "outputs": [],
   "source": [
    "# Anzeigen einfacher JSON-Daten\n",
    "\n",
    "# Beispielhafte JSON-Daten\n",
    "simple_json_data = {\n",
    "    \"name\": \"John Doe\",\n",
    "    \"age\": 30,\n",
    "    \"is_student\": False,\n",
    "    \"courses\": [\"Mathematics\", \"Computer Science\"],\n",
    "    \"address\": {\n",
    "        \"street\": \"123 Main St\",\n",
    "        \"city\": \"Anytown\",\n",
    "        \"zipcode\": \"12345\"\n",
    "    }\n",
    "}\n",
    "\n",
    "# Anzeige der JSON-Daten mit display_json\n",
    "display_json(simple_json_data,\n",
    "             title=\"Einfache JSON-Daten\",\n",
    "             dark_mode=False)"
   ]
  },
  {
   "cell_type": "code",
   "execution_count": null,
   "metadata": {},
   "outputs": [],
   "source": [
    "import json\n",
    "from IPython.display import display\n",
    "\n",
    "# Testdaten\n",
    "test_data = {\n",
    "    \"person\": {\n",
    "        \"name\": \"Max Mustermann\",\n",
    "        \"age\": 30,\n",
    "        \"isStudent\": True,\n",
    "        \"grades\": [1.0, 2.0, 1.3],\n",
    "        \"address\": {\n",
    "            \"street\": \"Beispielstraße 123\",\n",
    "            \"city\": None\n",
    "        }\n",
    "    }\n",
    "}\n"
   ]
  },
  {
   "cell_type": "code",
   "execution_count": null,
   "metadata": {},
   "outputs": [],
   "source": [
    "# Test data\n",
    "test_data = {\n",
    "    \"person\": {\n",
    "        \"name\": \"Max Mustermann\",\n",
    "        \"age\": 30,\n",
    "        \"isStudent\": True,\n",
    "        \"grades\": [1.0, 2.0, 1.3],\n",
    "        \"address\": {\n",
    "            \"street\": \"Beispielstraße 123\",\n",
    "            \"city\": None\n",
    "        }\n",
    "    }\n",
    "}\n",
    "\n",
    "# Test Light Mode\n",
    "print(\"Testing Light Mode...\")\n",
    "display_json(test_data, title=\"Light Mode Test\", dark_mode=False)\n",
    "\n",
    "# Test Dark Mode\n",
    "print(\"\\nTesting Dark Mode...\")\n",
    "display_json(test_data, title=\"Dark Mode Test\", dark_mode=True)"
   ]
  },
  {
   "cell_type": "code",
   "execution_count": null,
   "metadata": {},
   "outputs": [],
   "source": [
    "\n",
    "# Test Light Mode\n",
    "print(\"Testing Light Mode...\")\n",
    "display_json(\n",
    "    test_data,\n",
    "    title=\"Light Mode Test\",\n",
    "    dark_mode=False,\n",
    "    collapsed=False\n",
    ")\n",
    "\n",
    "# Test Dark Mode zum Vergleich\n",
    "print(\"\\nTesting Dark Mode...\")\n",
    "display_json(\n",
    "    test_data,\n",
    "    title=\"Dark Mode Test\",\n",
    "    dark_mode=True,\n",
    "    collapsed=False\n",
    ")"
   ]
  },
  {
   "cell_type": "markdown",
   "metadata": {},
   "source": [
    "# Anzeigen verschachtelter JSON-Daten\n",
    "Zeigen Sie verschachtelte JSON-Strukturen mit display_json an."
   ]
  },
  {
   "cell_type": "code",
   "execution_count": null,
   "metadata": {},
   "outputs": [],
   "source": [
    "nested_json_data"
   ]
  },
  {
   "cell_type": "code",
   "execution_count": null,
   "metadata": {},
   "outputs": [],
   "source": [
    "# Anzeigen verschachtelter JSON-Daten\n",
    "\n",
    "# Beispielhafte verschachtelte JSON-Daten\n",
    "nested_json_data = {\n",
    "    \"company\": {\n",
    "        \"name\": \"Tech Solutions\",\n",
    "        \"employees\": [\n",
    "            {\n",
    "                \"name\": \"Alice Smith\",\n",
    "                \"age\": 28,\n",
    "                \"position\": \"Software Engineer\",\n",
    "                \"skills\": [\"Python\", \"JavaScript\", \"C++\"]\n",
    "            },\n",
    "            {\n",
    "                \"name\": \"Bob Johnson\",\n",
    "                \"age\": 35,\n",
    "                \"position\": \"Project Manager\",\n",
    "                \"skills\": [\"Management\", \"Scrum\", \"Communication\"]\n",
    "            }\n",
    "        ],\n",
    "        \"location\": {\n",
    "            \"address\": {\n",
    "                \"street\": \"456 Tech Ave\",\n",
    "                \"city\": \"Innovate City\",\n",
    "                \"zipcode\": \"67890\"\n",
    "            },\n",
    "            \"coordinates\": {\n",
    "                \"latitude\": 37.7749,\n",
    "                \"longitude\": -122.4194\n",
    "            }\n",
    "        }\n",
    "    },\n",
    "    \"projects\": [\n",
    "        {\n",
    "            \"name\": \"Project Alpha\",\n",
    "            \"deadline\": \"2023-12-31\",\n",
    "            \"budget\": 1000000,\n",
    "            \"status\": \"In Progress\"\n",
    "        },\n",
    "        {\n",
    "            \"name\": \"Project Beta\",\n",
    "            \"deadline\": \"2024-06-30\",\n",
    "            \"budget\": 500000,\n",
    "            \"status\": \"Planned\"\n",
    "        }\n",
    "    ]\n",
    "}\n",
    "\n",
    "# Anzeige der verschachtelten JSON-Daten mit display_json\n",
    "display_json(nested_json_data, title=\"Verschachtelte JSON-Daten\", dark_mode=True, collapsed=True, max_depth=3)"
   ]
  },
  {
   "cell_type": "markdown",
   "metadata": {},
   "source": [
    "# Anpassung der Anzeigeparameter\n",
    "Passen Sie Parameter wie 'title', 'max_depth' und 'indent_size' an."
   ]
  },
  {
   "cell_type": "code",
   "execution_count": null,
   "metadata": {},
   "outputs": [],
   "source": [
    "# Anpassung der Anzeigeparameter\n",
    "\n",
    "# Anzeige der JSON-Daten mit angepasstem Titel\n",
    "display_json(simple_json_data, title=\"Angepasster Titel: Einfache JSON-Daten\", dark_mode=False)\n",
    "\n",
    "# Anzeige der JSON-Daten mit angepasster maximaler Verschachtelungstiefe\n",
    "display_json(nested_json_data, title=\"Angepasste max_depth: Verschachtelte JSON-Daten\", dark_mode=True, collapsed=True, max_depth=2)\n",
    "\n",
    "# Anzeige der JSON-Daten mit angepasster Einrückungsgröße\n",
    "display_json(nested_json_data, title=\"Angepasste indent_size: Verschachtelte JSON-Daten\", dark_mode=True, collapsed=True, indent_size=40)"
   ]
  },
  {
   "cell_type": "markdown",
   "metadata": {},
   "source": [
    "# Verwendung des Dunkelmodus\n",
    "Aktivieren Sie den Dunkelmodus zur Darstellung der JSON-Daten."
   ]
  },
  {
   "cell_type": "code",
   "execution_count": null,
   "metadata": {},
   "outputs": [],
   "source": [
    "# Verwendung des Dunkelmodus\n",
    "\n",
    "# Anzeige der JSON-Daten im Dunkelmodus\n",
    "display_json(simple_json_data, title=\"Einfache JSON-Daten im Dunkelmodus\", dark_mode=True)"
   ]
  },
  {
   "cell_type": "code",
   "execution_count": null,
   "metadata": {},
   "outputs": [],
   "source": []
  }
 ],
 "metadata": {
  "kernelspec": {
   "display_name": "gemini_310",
   "language": "python",
   "name": "python3"
  },
  "language_info": {
   "codemirror_mode": {
    "name": "ipython",
    "version": 3
   },
   "file_extension": ".py",
   "mimetype": "text/x-python",
   "name": "python",
   "nbconvert_exporter": "python",
   "pygments_lexer": "ipython3",
   "version": "3.10.15"
  }
 },
 "nbformat": 4,
 "nbformat_minor": 2
}
